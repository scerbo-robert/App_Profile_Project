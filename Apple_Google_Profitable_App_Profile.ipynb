{
 "cells": [
  {
   "cell_type": "markdown",
   "metadata": {},
   "source": [
    "*Yahya Robert Scerbo*\n",
    "# *Generating a Profitable App Profile* \n",
    "\n",
    "## *For the 'App Store' and 'Google Play' Markets*\n",
    "\n",
    "The project that follows is mainly concerned with finding which app profiles are the most profitable on Google Play and the App Store. We are working as data analysts for a company that builds Andriod and iOS mobile apps, our hope as data analysts is to provide information to our developers that will allow them to make data orientated choices in regards to the apps they develop.\n",
    "\n",
    "The company we are employed by strictly makes apps that are free to download and install, our main source of revenue is generated through in-app advertisements. Therefore the money made on any given app is influenced by the number of people using it. Our goal for this project is to analyze data to help our developers understand what type of apps are likely to attract more users."
   ]
  },
  {
   "cell_type": "markdown",
   "metadata": {},
   "source": [
    "## Taking our first look at the data\n",
    "\n",
    "As of September 2018, there were approximately 2 million iOS apps available on the App Store, and 2.1 million Android apps on Google Play.\n",
    "\n",
    "Exploring an inventory of apps and data this large is currently out of our budget, therefore we will instead analyze a sample of the data. During this project, two data sets were used:\n",
    "\n",
    "[The first](https://www.kaggle.com/ramamet4/app-store-apple-data-set-10k-apps) is a data set containing about 7,000 iOS apps from the App Store, the information was collected in July of 2017.\n",
    "\n",
    "[The second](https://www.kaggle.com/lava18/google-play-store-apps?select=googleplaystore.csv) is a data set containing about 10,000 Android apps from Google Play; the data was collected in August 2018.\n",
    "\n",
    "The first thing we should do is open the data sets and take a glance at some of their main features.\n",
    "\n",
    "To make this first process easier we will define a function `explore_data()` that takes in four parameters: the dataset, the start and end point (how big of a slice of the table we want), and finally a boolean parameter that allows us to choose if we want to print the total number of rows and columns or not. "
   ]
  },
  {
   "cell_type": "code",
   "execution_count": 1,
   "metadata": {},
   "outputs": [],
   "source": [
    "from csv import reader\n",
    "\n",
    "# Opening the data sets\n",
    "open_file = open('/Users/Bud/project_data_sets/AppleStore.csv') \n",
    "read_file = reader(open_file)\n",
    "applestore = list(read_file)\n",
    "apple_header = applestore[0] \n",
    "apple_data = applestore[1:] #iOS Apps\n",
    "\n",
    "open_file = open('/Users/Bud/project_data_sets/googleplaystore.csv')\n",
    "read_file = reader(open_file)\n",
    "googlestore = list(read_file)\n",
    "google_header = googlestore[0]\n",
    "google_data = googlestore[1:] # Android Apps\n",
    "\n",
    "# Function that allows data exploration\n",
    "def explore_data(dataset, start, end, rows_and_columns=False):\n",
    "    dataset_slice = dataset[start:end]\n",
    "    for row in dataset_slice:\n",
    "        print(row)\n",
    "        print('\\n') #adds a new (empty) line after each row\n",
    "        \n",
    "    if rows_and_columns:\n",
    "        print('Number of rows:',len(dataset))\n",
    "        print('Number of columns:',len(dataset[0]))"
   ]
  },
  {
   "cell_type": "code",
   "execution_count": 2,
   "metadata": {},
   "outputs": [
    {
     "name": "stdout",
     "output_type": "stream",
     "text": [
      "['id', 'track_name', 'size_bytes', 'currency', 'price', 'rating_count_tot', 'rating_count_ver', 'user_rating', 'user_rating_ver', 'ver', 'cont_rating', 'prime_genre', 'sup_devices.num', 'ipadSc_urls.num', 'lang.num', 'vpp_lic']\n",
      "\n",
      "\n",
      "['284882215', 'Facebook', '389879808', 'USD', '0', '2974676', '212', '3.5', '3.5', '95', '4+', 'Social Networking', '37', '1', '29', '1']\n",
      "\n",
      "\n",
      "['389801252', 'Instagram', '113954816', 'USD', '0', '2161558', '1289', '4.5', '4', '10.23', '12+', 'Photo & Video', '37', '0', '29', '1']\n",
      "\n",
      "\n",
      "['529479190', 'Clash of Clans', '116476928', 'USD', '0', '2130805', '579', '4.5', '4.5', '9.24.12', '9+', 'Games', '38', '5', '18', '1']\n",
      "\n",
      "\n",
      "Number of rows: 7197\n",
      "Number of columns: 16\n"
     ]
    }
   ],
   "source": [
    "# Exploring the data sets at a glance, apple first\n",
    "\n",
    "print(apple_header) # Inspecting column titles\n",
    "print('\\n')\n",
    "explore_data(apple_data,0,3,True) # Inspecting 1st 3 rows"
   ]
  },
  {
   "cell_type": "markdown",
   "metadata": {},
   "source": [
    " The Apple Store data set contains 7197 rows and 16 columns. We've also printed the title row of the data, the columns which seem more useful to helping achieve our goal are: 'track_name', 'price', 'currency', 'rating_count_tot', 'rating_count_ver', 'prime_genre'.\n",
    " \n",
    " We'll do the same with the Google Play data."
   ]
  },
  {
   "cell_type": "code",
   "execution_count": 3,
   "metadata": {},
   "outputs": [
    {
     "name": "stdout",
     "output_type": "stream",
     "text": [
      "['App', 'Category', 'Rating', 'Reviews', 'Size', 'Installs', 'Type', 'Price', 'Content Rating', 'Genres', 'Last Updated', 'Current Ver', 'Android Ver']\n",
      "\n",
      "\n",
      "['Photo Editor & Candy Camera & Grid & ScrapBook', 'ART_AND_DESIGN', '4.1', '159', '19M', '10,000+', 'Free', '0', 'Everyone', 'Art & Design', 'January 7, 2018', '1.0.0', '4.0.3 and up']\n",
      "\n",
      "\n",
      "['Coloring book moana', 'ART_AND_DESIGN', '3.9', '967', '14M', '500,000+', 'Free', '0', 'Everyone', 'Art & Design;Pretend Play', 'January 15, 2018', '2.0.0', '4.0.3 and up']\n",
      "\n",
      "\n",
      "['U Launcher Lite – FREE Live Cool Themes, Hide Apps', 'ART_AND_DESIGN', '4.7', '87510', '8.7M', '5,000,000+', 'Free', '0', 'Everyone', 'Art & Design', 'August 1, 2018', '1.2.4', '4.0.3 and up']\n",
      "\n",
      "\n",
      "Number of rows: 10841\n",
      "Number of columns: 13\n"
     ]
    }
   ],
   "source": [
    "# The Google Play data\n",
    "\n",
    "print(google_header) # Inspecting column titles\n",
    "print('\\n')\n",
    "explore_data(google_data,0,3,True) # Inspecting 1st 3 rows"
   ]
  },
  {
   "cell_type": "markdown",
   "metadata": {},
   "source": [
    "The Google Play data set contains 10,841 rows and 13 columns. The useful columns from the this data seem to be: 'App', 'Category', 'Reviews', 'Installs', 'Price', 'Genres', 'Type'. \n",
    "\n",
    "The column titles can be somewhat cryptic, particularly in regards to the Apple Store data set, clearer descriptions are provided for [the Apple Store data](https://www.kaggle.com/ramamet4/app-store-apple-data-set-10k-apps) and [the Google Play data](https://www.kaggle.com/lava18/google-play-store-apps?select=googleplaystore.csv).\n",
    "\n",
    "## Beginning Data Cleaning\n",
    "\n",
    "We will clean our data by removing or ammending the following:\n",
    "\n",
    "- Inaccurate or incorrect data\n",
    "- Duplicate data\n",
    "- Non-English apps\n",
    "- Apps that are not free\n",
    "\n",
    "### Detecting inaccurate data, correcting or removing it\n",
    "\n",
    "Before doing a thorough analysis it is important to ensure there are no incorrect entries in the data, skipping this step could cause our analysis to be inaccurate. \n",
    "\n",
    "There is a discussion forum for the Google Play data set [here](https://www.kaggle.com/lava18/google-play-store-apps/discussion). There is an entry with quite a few comments that mentions a missing entry in the rating column of row 10,472, if we print this row we can have a look to see what is wrong with it."
   ]
  },
  {
   "cell_type": "code",
   "execution_count": 4,
   "metadata": {},
   "outputs": [
    {
     "name": "stdout",
     "output_type": "stream",
     "text": [
      "['Life Made WI-Fi Touchscreen Photo Frame', '1.9', '19', '3.0M', '1,000+', 'Free', '0', 'Everyone', '', 'February 11, 2018', '1.0.19', '4.0 and up', '']\n",
      "\n",
      "\n",
      "['App', 'Category', 'Rating', 'Reviews', 'Size', 'Installs', 'Type', 'Price', 'Content Rating', 'Genres', 'Last Updated', 'Current Ver', 'Android Ver']\n",
      "\n",
      "\n",
      "['Photo Editor & Candy Camera & Grid & ScrapBook', 'ART_AND_DESIGN', '4.1', '159', '19M', '10,000+', 'Free', '0', 'Everyone', 'Art & Design', 'January 7, 2018', '1.0.0', '4.0.3 and up']\n"
     ]
    }
   ],
   "source": [
    "print(google_data[10472])\n",
    "print('\\n')\n",
    "print(google_header) # The header of each column\n",
    "print('\\n')\n",
    "print(google_data[0]) # this is a row we can compare with"
   ]
  },
  {
   "cell_type": "markdown",
   "metadata": {},
   "source": [
    "The app that apparently has an error is *'Life Made WI-Fi Touchscreen Photo Frame'*. The row seems to be missing its entry for 'category' this has caused the column shift, from doing a quick search on the Google Play Store we found that the correct category of this app is 'Lifestyle'. Adding the newly found category entry should fix this problem. "
   ]
  },
  {
   "cell_type": "code",
   "execution_count": 5,
   "metadata": {
    "scrolled": true
   },
   "outputs": [
    {
     "name": "stdout",
     "output_type": "stream",
     "text": [
      "['Life Made WI-Fi Touchscreen Photo Frame', '1.9', '19', '3.0M', '1,000+', 'Free', '0', 'Everyone', '', 'February 11, 2018', '1.0.19', '4.0 and up', '']\n",
      "\n",
      "\n",
      "['Life Made WI-Fi Touchscreen Photo Frame', 'Lifestyle', '1.9', '19', '3.0M', '1000+', 'Free', '0', 'Everyone', '', 'February 11 2018', '1.0.19', '4.0 and up']\n"
     ]
    }
   ],
   "source": [
    "print(google_data[10472])\n",
    "print('\\n')\n",
    "google_data[10472] = ['Life Made WI-Fi Touchscreen Photo Frame','Lifestyle','1.9','19','3.0M','1000+','Free','0','Everyone','','February 11 2018', '1.0.19','4.0 and up']\n",
    "print(google_data[10472])"
   ]
  },
  {
   "cell_type": "markdown",
   "metadata": {},
   "source": [
    "That entry should no longer cause a problem. \n",
    "\n",
    "There is an also discussion forum for the Apple App Store data [here](https://www.kaggle.com/ramamet4/app-store-apple-data-set-10k-apps/discussion), but the comments do not discuss any overly obvious such as the one we've just ammended.\n",
    "\n",
    "### Correcting duplicate entries\n",
    "\n",
    "Consulting the discussion forum mentioned previously, it has been revealed that there are duplicate entries in the Play Store data, an example of this is printed below: "
   ]
  },
  {
   "cell_type": "code",
   "execution_count": 6,
   "metadata": {},
   "outputs": [
    {
     "name": "stdout",
     "output_type": "stream",
     "text": [
      "['Snapchat', 'SOCIAL', '4', '17014787', 'Varies with device', '500,000,000+', 'Free', '0', 'Teen', 'Social', 'July 30, 2018', 'Varies with device', 'Varies with device']\n",
      "['Snapchat', 'SOCIAL', '4', '17014705', 'Varies with device', '500,000,000+', 'Free', '0', 'Teen', 'Social', 'July 30, 2018', 'Varies with device', 'Varies with device']\n",
      "['Snapchat', 'SOCIAL', '4', '17015352', 'Varies with device', '500,000,000+', 'Free', '0', 'Teen', 'Social', 'July 30, 2018', 'Varies with device', 'Varies with device']\n",
      "['Snapchat', 'SOCIAL', '4', '17000166', 'Varies with device', '500,000,000+', 'Free', '0', 'Teen', 'Social', 'July 30, 2018', 'Varies with device', 'Varies with device']\n"
     ]
    }
   ],
   "source": [
    "for app in google_data:\n",
    "    app_name = app[0]\n",
    "    if app_name == 'Snapchat': # showing Snapchat duplicates\n",
    "        print(app)"
   ]
  },
  {
   "cell_type": "markdown",
   "metadata": {},
   "source": [
    "The app \"Snapchat\" has been entered into the data set multiple times. We need to find out exactly how many entries are duplicates, and make a new data set without these duplicates. "
   ]
  },
  {
   "cell_type": "code",
   "execution_count": 7,
   "metadata": {},
   "outputs": [
    {
     "name": "stdout",
     "output_type": "stream",
     "text": [
      "Number of duplicates: 1181\n",
      "\n",
      "\n",
      "First 10 duplicates: ['Quick PDF Scanner + OCR FREE', 'Box', 'Google My Business', 'ZOOM Cloud Meetings', 'join.me - Simple Meetings', 'Box', 'Zenefits', 'Google Ads', 'Google My Business', 'Slack']\n"
     ]
    }
   ],
   "source": [
    "duplicates = []\n",
    "unique_entries = []\n",
    "\n",
    "for app in google_data:\n",
    "    app_name = app[0]\n",
    "    if app_name in unique_entries:\n",
    "        duplicates.append(app_name)\n",
    "    else:\n",
    "        unique_entries.append(app_name)\n",
    "        \n",
    "print('Number of duplicates:', len(duplicates))\n",
    "print('\\n')\n",
    "print('First 10 duplicates:',duplicates[:10])"
   ]
  },
  {
   "cell_type": "markdown",
   "metadata": {},
   "source": [
    "We've revealed that of the 10,841 apps in the Play Store data set; 1,181 of them are duplicates. \n",
    "\n",
    "To be able to eventually gather accurate information from the data; we should remove duplicate entries, duplicates could potentially throw off our conclusion. \n",
    "\n",
    "Instead of deleting rows randomly, we can take a more systematic approach. If you take a look at the 'Snapchat' duplicates printed earlier, you'll notice the only differences are between the numbers in the 4th column of each entry. The data in these columns corresponds to the number of reviews. We're going to keep the entry with the most reviews, this one will give us the most up to date figure available and therefore most accurate. We will delete the remaining duplicates. \n",
    "\n",
    "To do this we will:\n",
    "\n",
    "- Create a dictionary where each key is a unique app name, and the corresponding value os the highest number of reviews.\n",
    "- Use our dictionary to make a new data set, which will only have one entry per app, the entry with the highest number of reviews.\n",
    "\n",
    "Building the dictionary:"
   ]
  },
  {
   "cell_type": "code",
   "execution_count": 8,
   "metadata": {},
   "outputs": [
    {
     "name": "stdout",
     "output_type": "stream",
     "text": [
      "Expected length: 9660\n",
      "Length: 9660\n"
     ]
    }
   ],
   "source": [
    "reviews_max = {}\n",
    "\n",
    "for app in google_data:\n",
    "    app_name = app[0]\n",
    "    reviews = float(app[3])\n",
    "    \n",
    "    if app_name in reviews_max and reviews_max[app_name] < reviews:\n",
    "        reviews_max[app_name] = reviews\n",
    "        \n",
    "    elif app_name not in reviews_max:\n",
    "        reviews_max[app_name] = reviews\n",
    "        \n",
    "print('Expected length:',(len(google_data)-1181))\n",
    "print('Length:',len(reviews_max))"
   ]
  },
  {
   "cell_type": "markdown",
   "metadata": {},
   "source": [
    "The length of our dictionary is in line with our expectations, as it should simply be the total number of entries minus the duplicate entries. "
   ]
  },
  {
   "cell_type": "markdown",
   "metadata": {},
   "source": [
    "Now we can use our dictionary to remove the duplicate entries. We'll do this by creating two empty lists `google_clean` (which stores our new cleaned data) and `already_added` (which will just store app names). "
   ]
  },
  {
   "cell_type": "code",
   "execution_count": 9,
   "metadata": {},
   "outputs": [],
   "source": [
    "google_clean = []\n",
    "already_added = []\n",
    "\n",
    "for app in google_data:\n",
    "    app_name = app[0]\n",
    "    reviews = float(app[3])\n",
    "    if (reviews_max[app_name] == reviews) and (app_name not in already_added):\n",
    "        google_clean.append(app)\n",
    "        already_added.append(app_name)"
   ]
  },
  {
   "cell_type": "markdown",
   "metadata": {},
   "source": [
    "In the code above, we loop through the Play Store data set to isolate the name and number of reviews of each app. All of the data for each app is added to `google_clean` IF the number of reviews of the current app matches the number of reviews given in the `reviews_max` dictionary AND the name of the current app is not in the `already_added` list, this second condition is added to account for duplicate apps where the highest number of reviews is the same for more than one entry. "
   ]
  },
  {
   "cell_type": "code",
   "execution_count": 10,
   "metadata": {},
   "outputs": [
    {
     "name": "stdout",
     "output_type": "stream",
     "text": [
      "9660\n"
     ]
    }
   ],
   "source": [
    "print(len(google_clean))\n",
    "\n",
    "google_data = google_clean"
   ]
  },
  {
   "cell_type": "markdown",
   "metadata": {},
   "source": [
    "We now have a new \"cleaned\" Play Store data set, each app described in this data set is now unique. We've also saved our new data set to the previously used name, to not make a mistake in the future. "
   ]
  },
  {
   "cell_type": "code",
   "execution_count": 11,
   "metadata": {},
   "outputs": [
    {
     "name": "stdout",
     "output_type": "stream",
     "text": [
      "7197\n",
      "7197\n"
     ]
    }
   ],
   "source": [
    "unique_app = []\n",
    "duplicate_entry = []\n",
    "\n",
    "for app in apple_data:\n",
    "    app_name = app[0]\n",
    "    if app_name in unique_app:\n",
    "        duplicate_entry.append(app_name)\n",
    "        \n",
    "    else:\n",
    "        unique_app.append(app_name)\n",
    "\n",
    "print(len(apple_data))\n",
    "print(len(unique_app))"
   ]
  },
  {
   "cell_type": "markdown",
   "metadata": {},
   "source": [
    "There were no comments in the Apple App Store discussion forum about duplicate entries but we checked if there were any. The code above shows that each entry in the `apple_data` has a unique app ID."
   ]
  },
  {
   "cell_type": "markdown",
   "metadata": {},
   "source": [
    "### Removing Non-English Apps\n",
    "\n",
    "Our company only develops apps in English, so we only need to analyse apps that are directed toward an English speaking demographic. Exploring the data sets shows that they both contain apps with names that suggest they are not intended for an English speaking audience. \n",
    "\n",
    "One way to go about removing these apps is to remove each app whose name contains a symbol that isn't usually used in English language and text. English text usually includes letters from the Latin alphabet, arabic numbers (the numbers 0 to 9), various punctuation marks (.,?,!,) and other symbols (+,*,etc.)\n",
    "\n",
    "Behind the scenes, each character used in a string has a corresponding number associated with it. The numbers corresponding to the characters we commonly use in an English text are all in the range 0 to 127, according to the ASCII (American Standard Code for Information Interchange) system.\n",
    "\n",
    "We can write code to loop over each app name and find the corresponding number of each character in the name, if a character is greater than 127 then the app probably has a non-English name. "
   ]
  },
  {
   "cell_type": "code",
   "execution_count": 12,
   "metadata": {},
   "outputs": [
    {
     "name": "stdout",
     "output_type": "stream",
     "text": [
      "False\n",
      "True\n",
      "False\n",
      "False\n"
     ]
    }
   ],
   "source": [
    "def app_detector(string):\n",
    "    for character in string:\n",
    "        if (ord(character)) > 127:\n",
    "            return False\n",
    "    return True\n",
    "        \n",
    "print(app_detector('爱奇艺PPS -《欢乐颂2》电视剧热播'))\n",
    "\n",
    "print(app_detector('Instagram'))\n",
    "\n",
    "print(app_detector('Docs To Go™ Free Office Suite'))\n",
    "\n",
    "print(app_detector('Instachat 😜'))"
   ]
  },
  {
   "cell_type": "markdown",
   "metadata": {},
   "source": [
    "In the previous cell we created a function `app_detector` that loops over a string and returns 'False' if the string contains a character with a value greater than 127. \n",
    "\n",
    "The issue is that some apps meant for English speaking audiences will have names containing characters outside the ASCII range (such as emojis and other characters). \n",
    "\n",
    "So the function was correct to return `False` when *'Docs To Go™ Free Office Suite'* was the input, but this is an app that is likely meant for English speaking audiences. \n",
    "\n",
    "If we use the above function we'll end up throwing away perfectly good data since many apps will be incorrectly labelled as non-English. To minimize the impact of data loss we'll only remove an app if its name has more than three disallowed characters. The function wont be perfect but will do."
   ]
  },
  {
   "cell_type": "code",
   "execution_count": 13,
   "metadata": {},
   "outputs": [
    {
     "name": "stdout",
     "output_type": "stream",
     "text": [
      "False\n",
      "True\n",
      "True\n",
      "True\n"
     ]
    }
   ],
   "source": [
    "def app_detector(string):\n",
    "    too_many = []\n",
    "    for character in string:\n",
    "        if (ord(character)) > 127:\n",
    "            too_many.append(character)\n",
    "        if len(too_many) == 4:\n",
    "            return False\n",
    "    return True\n",
    "\n",
    "print(app_detector('爱奇艺PPS -《欢乐颂2》电视剧热播'))\n",
    "\n",
    "print(app_detector('Instagram'))\n",
    "\n",
    "print(app_detector('Docs To Go™ Free Office Suite'))\n",
    "\n",
    "print(app_detector('Instachat 😜'))"
   ]
  },
  {
   "cell_type": "markdown",
   "metadata": {},
   "source": [
    "We've fixed the function as intended. "
   ]
  },
  {
   "cell_type": "code",
   "execution_count": 14,
   "metadata": {},
   "outputs": [
    {
     "name": "stdout",
     "output_type": "stream",
     "text": [
      "['Photo Editor & Candy Camera & Grid & ScrapBook', 'ART_AND_DESIGN', '4.1', '159', '19M', '10,000+', 'Free', '0', 'Everyone', 'Art & Design', 'January 7, 2018', '1.0.0', '4.0.3 and up']\n",
      "\n",
      "\n",
      "['U Launcher Lite – FREE Live Cool Themes, Hide Apps', 'ART_AND_DESIGN', '4.7', '87510', '8.7M', '5,000,000+', 'Free', '0', 'Everyone', 'Art & Design', 'August 1, 2018', '1.2.4', '4.0.3 and up']\n",
      "\n",
      "\n",
      "['Sketch - Draw & Paint', 'ART_AND_DESIGN', '4.5', '215644', '25M', '50,000,000+', 'Free', '0', 'Teen', 'Art & Design', 'June 8, 2018', 'Varies with device', '4.2 and up']\n",
      "\n",
      "\n",
      "Number of rows: 9615\n",
      "Number of columns: 13\n",
      "\n",
      "\n",
      "['284882215', 'Facebook', '389879808', 'USD', '0', '2974676', '212', '3.5', '3.5', '95', '4+', 'Social Networking', '37', '1', '29', '1']\n",
      "\n",
      "\n",
      "['389801252', 'Instagram', '113954816', 'USD', '0', '2161558', '1289', '4.5', '4', '10.23', '12+', 'Photo & Video', '37', '0', '29', '1']\n",
      "\n",
      "\n",
      "['529479190', 'Clash of Clans', '116476928', 'USD', '0', '2130805', '579', '4.5', '4.5', '9.24.12', '9+', 'Games', '38', '5', '18', '1']\n",
      "\n",
      "\n",
      "Number of rows: 6183\n",
      "Number of columns: 16\n"
     ]
    }
   ],
   "source": [
    "english_google = []\n",
    "english_apple = []\n",
    "\n",
    "for row in google_data:\n",
    "    app_name = row[0]\n",
    "    if app_detector(app_name):\n",
    "        english_google.append(row)\n",
    "        \n",
    "google_data = english_google\n",
    "explore_data(google_data,0,3,True)\n",
    "\n",
    "for row in apple_data:\n",
    "    app_name = row[1]\n",
    "    if app_detector(app_name):\n",
    "        english_apple.append(row)\n",
    "print('\\n')        \n",
    "apple_data = english_apple\n",
    "explore_data(apple_data,0,3,True)"
   ]
  },
  {
   "cell_type": "markdown",
   "metadata": {},
   "source": [
    "All apps with non-English names have been removed from both data sets. \n",
    "\n",
    "### Removing Non-Free Apps\n",
    "\n",
    "Our final data cleaning step will be to remove all apps from both sets of data that are not free."
   ]
  },
  {
   "cell_type": "code",
   "execution_count": 15,
   "metadata": {},
   "outputs": [
    {
     "name": "stdout",
     "output_type": "stream",
     "text": [
      "8865\n",
      "3222\n"
     ]
    }
   ],
   "source": [
    "google_free = []\n",
    "apple_free = []\n",
    "\n",
    "for row in google_data:\n",
    "    price = row[7]\n",
    "    if price == '0':\n",
    "        google_free.append(row)\n",
    "        \n",
    "print(len(google_free))\n",
    "\n",
    "for row in apple_data:\n",
    "    price = row[4]\n",
    "    if price == '0':\n",
    "        apple_free.append(row)\n",
    "        \n",
    "print(len(apple_free))\n",
    "\n",
    "google_data = google_free\n",
    "apple_data = apple_free"
   ]
  },
  {
   "cell_type": "markdown",
   "metadata": {},
   "source": [
    "We're now left with 8,865 Android apps and 3,222 iOS Apps, which should be enough for our analysis. \n",
    "\n",
    "## Most Common App Genres\n",
    "\n",
    "As stated early, we want to find out what kinds of apps are likely to attract the most users as our revenue is significantly influenced by the number of people using our apps.\n",
    "\n",
    "To minimize risk and overhead, our validation strategy for an app idea is comprised of three steps:\n",
    "\n",
    "1. Build a minimal Android version of the app, and add it to google Play.\n",
    "2. If the app has a good response from users, we develop it further. \n",
    "3. If the app is profitable after six months, we build an iOS version of the app and add it to the App Store. \n",
    "\n",
    "Since our end goal is to create an app on both Google Play and the App Store, we need to find app profiles that are successful on both markets. We'll begin the next part of the analysis by finding some of the most common app genres for each market, this can be done by building frequency tables for a few columns in our data sets. "
   ]
  },
  {
   "cell_type": "code",
   "execution_count": 16,
   "metadata": {},
   "outputs": [
    {
     "name": "stdout",
     "output_type": "stream",
     "text": [
      "['id', 'track_name', 'size_bytes', 'currency', 'price', 'rating_count_tot', 'rating_count_ver', 'user_rating', 'user_rating_ver', 'ver', 'cont_rating', 'prime_genre', 'sup_devices.num', 'ipadSc_urls.num', 'lang.num', 'vpp_lic']\n",
      "\n",
      "\n",
      "['App', 'Category', 'Rating', 'Reviews', 'Size', 'Installs', 'Type', 'Price', 'Content Rating', 'Genres', 'Last Updated', 'Current Ver', 'Android Ver']\n"
     ]
    }
   ],
   "source": [
    "print(apple_header)\n",
    "print('\\n')\n",
    "print(google_header)"
   ]
  },
  {
   "cell_type": "markdown",
   "metadata": {},
   "source": [
    "The columns most useful to us in this task will be `prime_genre` from the Apple Store data, as well as `Genres` and `Category` from the Google Play data. "
   ]
  },
  {
   "cell_type": "code",
   "execution_count": 17,
   "metadata": {},
   "outputs": [],
   "source": [
    "def freq_table(dataset,index): # The dataset is a list of lists\n",
    "    table = {}\n",
    "    total = 0\n",
    "    \n",
    "    for app in dataset: # looping over each row in dataset\n",
    "        total +=1 # Total number of apps, for finding percentage\n",
    "        entry = app[index] # assigning sought after column as 'entry'\n",
    "        if entry in table: # entry is added as key to dictionary\n",
    "            table[entry] +=1\n",
    "        else:\n",
    "            table[entry] =1\n",
    "    \n",
    "    table_percentages = {}\n",
    "    for genre in table: \n",
    "        percentage = (table[genre]/total)*100\n",
    "        table_percentages[genre] = percentage\n",
    "        \n",
    "    return table_percentages\n",
    "\n",
    "def display_table(dataset, index):\n",
    "    table = freq_table(dataset, index)\n",
    "    table_display = []\n",
    "    for key in table:\n",
    "        key_val_as_tuple = (table[key], key)\n",
    "        table_display.append(key_val_as_tuple)\n",
    "\n",
    "    table_sorted = sorted(table_display, reverse = True)\n",
    "    for entry in table_sorted:\n",
    "        print(entry[1], ':', entry[0])"
   ]
  },
  {
   "cell_type": "markdown",
   "metadata": {},
   "source": [
    "We have just defined two functions, the first `freq_table` takes in two inputs: `dataset` and `index`. The function will return the frequency table for any chosen column of the dataset, the frequencies are expressed as percentages. \n",
    "\n",
    "The second function `display_table` takes in the same inputs as the first function, it generates a frequency table using the already defined `freq_table` function. The function then turns the frequency table into a list of tuples, sorts them into descending order and prints the frequency table. \n",
    "\n",
    "Lets inspect the columns of interest. \n",
    "\n",
    "It is important to note that our data sets at this point only contain free English apps, so our conclusions may not reflect on Google Play and the App Store as a whole. "
   ]
  },
  {
   "cell_type": "code",
   "execution_count": 18,
   "metadata": {},
   "outputs": [
    {
     "name": "stdout",
     "output_type": "stream",
     "text": [
      "Games : 58.16263190564867\n",
      "Entertainment : 7.883302296710118\n",
      "Photo & Video : 4.9658597144630665\n",
      "Education : 3.662321539416512\n",
      "Social Networking : 3.2898820608317814\n",
      "Shopping : 2.60707635009311\n",
      "Utilities : 2.5139664804469275\n",
      "Sports : 2.1415270018621975\n",
      "Music : 2.0484171322160147\n",
      "Health & Fitness : 2.0173805090006205\n",
      "Productivity : 1.7380509000620732\n",
      "Lifestyle : 1.5828677839851024\n",
      "News : 1.3345747982619491\n",
      "Travel : 1.2414649286157666\n",
      "Finance : 1.1173184357541899\n",
      "Weather : 0.8690254500310366\n",
      "Food & Drink : 0.8069522036002483\n",
      "Reference : 0.5586592178770949\n",
      "Business : 0.5276225946617008\n",
      "Book : 0.4345127250155183\n",
      "Navigation : 0.186219739292365\n",
      "Medical : 0.186219739292365\n",
      "Catalogs : 0.12414649286157665\n"
     ]
    }
   ],
   "source": [
    "display_table(apple_data,11) # prime_genre"
   ]
  },
  {
   "cell_type": "markdown",
   "metadata": {},
   "source": [
    "The above frequency table shows the most and least common app genres in our Apple Store data set among free English apps. The most common app genre is 'Games', over half (58.16%) of the apps in our data set come under this genre. The second most common app type is 'Entertainment' which is close to 8%, followed by 'Photo & Video' close to 5%, next is 'Education' which only makes up 3.66% of the apps and social networking which comes to 3.29%. \n",
    "\n",
    "It seems as though the vast majority of the free English apps available are designed for recreational purposes or entertainment (such as games, photo and video, social networking, sports, music). On the other hand there seems to be fewer apps designed for more practical purposes (like education, shopping, utilities, productivity, lifestyle).\n",
    "\n",
    "We cannot really recommend an app profile for the App Store using this frequency table on its own, the case could be that a genre such as 'Social Networking' will have a small number of apps but possibly many users. \n",
    "\n",
    "For now we will move on with our analsyis onto the Google Play data set. "
   ]
  },
  {
   "cell_type": "code",
   "execution_count": 19,
   "metadata": {
    "scrolled": true
   },
   "outputs": [
    {
     "name": "stdout",
     "output_type": "stream",
     "text": [
      "FAMILY : 18.905809362662154\n",
      "GAME : 9.723632261703328\n",
      "TOOLS : 8.460236886632826\n",
      "BUSINESS : 4.591088550479413\n",
      "LIFESTYLE : 3.902989283699944\n",
      "PRODUCTIVITY : 3.8917089678511\n",
      "FINANCE : 3.699943598420756\n",
      "MEDICAL : 3.5307388606880994\n",
      "SPORTS : 3.395375070501974\n",
      "PERSONALIZATION : 3.3164128595600673\n",
      "COMMUNICATION : 3.2374506486181613\n",
      "HEALTH_AND_FITNESS : 3.0795262267343486\n",
      "PHOTOGRAPHY : 2.9441624365482233\n",
      "NEWS_AND_MAGAZINES : 2.7975183305132543\n",
      "SOCIAL : 2.662154540327129\n",
      "TRAVEL_AND_LOCAL : 2.33502538071066\n",
      "SHOPPING : 2.2447828539199097\n",
      "BOOKS_AND_REFERENCE : 2.143260011280316\n",
      "DATING : 1.8612521150592216\n",
      "VIDEO_PLAYERS : 1.793570219966159\n",
      "MAPS_AND_NAVIGATION : 1.3987591652566271\n",
      "FOOD_AND_DRINK : 1.2408347433728144\n",
      "EDUCATION : 1.161872532430908\n",
      "ENTERTAINMENT : 0.9588268471517203\n",
      "LIBRARIES_AND_DEMO : 0.9362662154540328\n",
      "AUTO_AND_VEHICLES : 0.924985899605189\n",
      "HOUSE_AND_HOME : 0.8234630569655951\n",
      "WEATHER : 0.8009024252679076\n",
      "EVENTS : 0.7106598984771574\n",
      "PARENTING : 0.6542583192329385\n",
      "ART_AND_DESIGN : 0.6429780033840948\n",
      "COMICS : 0.6204173716864072\n",
      "BEAUTY : 0.5978567399887197\n",
      "Lifestyle : 0.011280315848843767\n"
     ]
    }
   ],
   "source": [
    "display_table(google_data,1) # category"
   ]
  },
  {
   "cell_type": "markdown",
   "metadata": {},
   "source": [
    "Google Play seems to have a different selection of available apps, from the `Category` column it looks as though there are fewer apps for fun and gaming whilst there are more apps with practical uses. App types like tools, business, productivity, finance, medical, etc all rank highly in this frequency table. \n",
    "\n",
    "We can check this with the `Genres` column also from the Google Play data set."
   ]
  },
  {
   "cell_type": "code",
   "execution_count": 20,
   "metadata": {},
   "outputs": [
    {
     "name": "stdout",
     "output_type": "stream",
     "text": [
      "Tools : 8.44895657078398\n",
      "Entertainment : 6.068809926677947\n",
      "Education : 5.346869712351946\n",
      "Business : 4.591088550479413\n",
      "Productivity : 3.8917089678511\n",
      "Lifestyle : 3.8917089678511\n",
      "Finance : 3.699943598420756\n",
      "Medical : 3.5307388606880994\n",
      "Sports : 3.4630569655950363\n",
      "Personalization : 3.3164128595600673\n",
      "Communication : 3.2374506486181613\n",
      "Action : 3.102086858432036\n",
      "Health & Fitness : 3.0795262267343486\n",
      "Photography : 2.9441624365482233\n",
      "News & Magazines : 2.7975183305132543\n",
      "Social : 2.662154540327129\n",
      "Travel & Local : 2.323745064861816\n",
      "Shopping : 2.2447828539199097\n",
      "Books & Reference : 2.143260011280316\n",
      "Simulation : 2.0417371686407217\n",
      "Dating : 1.8612521150592216\n",
      "Arcade : 1.849971799210378\n",
      "Video Players & Editors : 1.7710095882684715\n",
      "Casual : 1.7597292724196276\n",
      "Maps & Navigation : 1.3987591652566271\n",
      "Food & Drink : 1.2408347433728144\n",
      "Puzzle : 1.1280315848843767\n",
      "Racing : 0.9926677946982515\n",
      "Role Playing : 0.9362662154540328\n",
      "Libraries & Demo : 0.9362662154540328\n",
      "Auto & Vehicles : 0.924985899605189\n",
      "Strategy : 0.9137055837563453\n",
      "House & Home : 0.8234630569655951\n",
      "Weather : 0.8009024252679076\n",
      "Events : 0.7106598984771574\n",
      "Adventure : 0.676818950930626\n",
      "Comics : 0.6091370558375634\n",
      "Beauty : 0.5978567399887197\n",
      "Art & Design : 0.5978567399887197\n",
      "Parenting : 0.49633389734912575\n",
      "Card : 0.4512126339537508\n",
      "Casino : 0.42865200225606315\n",
      "Trivia : 0.4173716864072194\n",
      "Educational;Education : 0.39481105470953193\n",
      "Board : 0.3835307388606881\n",
      "Educational : 0.3722504230118443\n",
      "Education;Education : 0.338409475465313\n",
      "Word : 0.25944726452340666\n",
      "Casual;Pretend Play : 0.23688663282571912\n",
      "Music : 0.20304568527918782\n",
      "Racing;Action & Adventure : 0.1692047377326565\n",
      "Puzzle;Brain Games : 0.1692047377326565\n",
      "Entertainment;Music & Video : 0.1692047377326565\n",
      "Casual;Brain Games : 0.1353637901861252\n",
      "Casual;Action & Adventure : 0.1353637901861252\n",
      "Arcade;Action & Adventure : 0.12408347433728144\n",
      "Action;Action & Adventure : 0.10152284263959391\n",
      "Educational;Pretend Play : 0.09024252679075014\n",
      "Simulation;Action & Adventure : 0.07896221094190638\n",
      "Parenting;Education : 0.07896221094190638\n",
      "Entertainment;Brain Games : 0.07896221094190638\n",
      "Board;Brain Games : 0.07896221094190638\n",
      "Parenting;Music & Video : 0.0676818950930626\n",
      "Educational;Brain Games : 0.0676818950930626\n",
      "Casual;Creativity : 0.0676818950930626\n",
      "Art & Design;Creativity : 0.0676818950930626\n",
      "Education;Pretend Play : 0.05640157924421885\n",
      "Role Playing;Pretend Play : 0.04512126339537507\n",
      "Education;Creativity : 0.04512126339537507\n",
      "Role Playing;Action & Adventure : 0.0338409475465313\n",
      "Puzzle;Action & Adventure : 0.0338409475465313\n",
      "Entertainment;Creativity : 0.0338409475465313\n",
      "Entertainment;Action & Adventure : 0.0338409475465313\n",
      "Educational;Creativity : 0.0338409475465313\n",
      "Educational;Action & Adventure : 0.0338409475465313\n",
      "Education;Music & Video : 0.0338409475465313\n",
      "Education;Brain Games : 0.0338409475465313\n",
      "Education;Action & Adventure : 0.0338409475465313\n",
      "Adventure;Action & Adventure : 0.0338409475465313\n",
      "Video Players & Editors;Music & Video : 0.022560631697687534\n",
      "Sports;Action & Adventure : 0.022560631697687534\n",
      "Simulation;Pretend Play : 0.022560631697687534\n",
      "Puzzle;Creativity : 0.022560631697687534\n",
      "Music;Music & Video : 0.022560631697687534\n",
      "Entertainment;Pretend Play : 0.022560631697687534\n",
      "Casual;Education : 0.022560631697687534\n",
      "Board;Action & Adventure : 0.022560631697687534\n",
      "Video Players & Editors;Creativity : 0.011280315848843767\n",
      "Trivia;Education : 0.011280315848843767\n",
      "Travel & Local;Action & Adventure : 0.011280315848843767\n",
      "Tools;Education : 0.011280315848843767\n",
      "Strategy;Education : 0.011280315848843767\n",
      "Strategy;Creativity : 0.011280315848843767\n",
      "Strategy;Action & Adventure : 0.011280315848843767\n",
      "Simulation;Education : 0.011280315848843767\n",
      "Role Playing;Brain Games : 0.011280315848843767\n",
      "Racing;Pretend Play : 0.011280315848843767\n",
      "Puzzle;Education : 0.011280315848843767\n",
      "Parenting;Brain Games : 0.011280315848843767\n",
      "Music & Audio;Music & Video : 0.011280315848843767\n",
      "Lifestyle;Pretend Play : 0.011280315848843767\n",
      "Lifestyle;Education : 0.011280315848843767\n",
      "Health & Fitness;Education : 0.011280315848843767\n",
      "Health & Fitness;Action & Adventure : 0.011280315848843767\n",
      "Entertainment;Education : 0.011280315848843767\n",
      "Communication;Creativity : 0.011280315848843767\n",
      "Comics;Creativity : 0.011280315848843767\n",
      "Casual;Music & Video : 0.011280315848843767\n",
      "Card;Action & Adventure : 0.011280315848843767\n",
      "Books & Reference;Education : 0.011280315848843767\n",
      "Art & Design;Pretend Play : 0.011280315848843767\n",
      "Art & Design;Action & Adventure : 0.011280315848843767\n",
      "Arcade;Pretend Play : 0.011280315848843767\n",
      "Adventure;Education : 0.011280315848843767\n",
      " : 0.011280315848843767\n"
     ]
    }
   ],
   "source": [
    "display_table(google_data,9) # genres"
   ]
  },
  {
   "cell_type": "markdown",
   "metadata": {},
   "source": [
    "The difference between the `Genres` and `Category` columns is not completely obvious, but it seems as though there is a much greater variety of genre types in the `Genres` column. As we are looking for the bigger picture at the moment, we will use the `Category` column going forward. \n",
    "\n",
    "None the less, it seems as though the `Genres` column confirms that Google Play has a higher number of practical apps. Tools, education, business and productivity are all within the top 5 genres of the frequency table. \n",
    "\n",
    "So far it seems as though our App Store data set is made up of more fun and recreational apps, where as Google Play is made up of apps intended for practical or educational use. Drwaing our conclusion will be easier if we find which apps genres have the most users.\n",
    "\n",
    "## Most Popular Apps by Genre \n",
    "\n",
    "A way we can find out which genres have the most users is to calculate the average number of installs for each app genre. For the Google Play data set we can use the `Installs` column. Unfortunately, there is not an equivalent column in the App Store data set, so we will use the total number of user ratings as a proxy, this information is in the `rating_count_tot` column.\n",
    "\n",
    "### App Store\n",
    "\n",
    "First we will generate a frequency table for the `prime_genre` column to get the unique app genres."
   ]
  },
  {
   "cell_type": "code",
   "execution_count": 21,
   "metadata": {},
   "outputs": [
    {
     "name": "stdout",
     "output_type": "stream",
     "text": [
      "Social Networking 71548.34905660378\n",
      "Photo & Video 28441.54375\n",
      "Games 22788.6696905016\n",
      "Music 57326.530303030304\n",
      "Reference 74942.11111111111\n",
      "Health & Fitness 23298.015384615384\n",
      "Weather 52279.892857142855\n",
      "Utilities 18684.456790123455\n",
      "Travel 28243.8\n",
      "Shopping 26919.690476190477\n",
      "News 21248.023255813954\n",
      "Navigation 86090.33333333333\n",
      "Lifestyle 16485.764705882353\n",
      "Entertainment 14029.830708661417\n",
      "Food & Drink 33333.92307692308\n",
      "Sports 23008.898550724636\n",
      "Book 39758.5\n",
      "Finance 31467.944444444445\n",
      "Education 7003.983050847458\n",
      "Productivity 21028.410714285714\n",
      "Business 7491.117647058823\n",
      "Catalogs 4004.0\n",
      "Medical 612.0\n"
     ]
    }
   ],
   "source": [
    "prime_genres = freq_table(apple_data,11)\n",
    "\n",
    "for genre in prime_genres:\n",
    "    total = 0\n",
    "    len_genre = 0\n",
    "    for app in apple_data:\n",
    "        genre_app = app[11]\n",
    "        if genre_app == genre:\n",
    "            total += float(app[5])\n",
    "            len_genre += 1\n",
    "    avg_rating = total/len_genre\n",
    "    print(genre,avg_rating)"
   ]
  },
  {
   "cell_type": "markdown",
   "metadata": {},
   "source": [
    "Above we have printed the average number of installs for each genre in our App Store data set. \n",
    "\n",
    "We can begin by disregarding some genres that we definitely will not have an interest in, these include:\n",
    "\n",
    "- Social Networking apps - This genre tends to be dominated by very successful companies such as Facebook and Twitter.\n",
    "- Music apps - Again this app genre is dominated by successful giants like Spotify and Shazam.\n",
    "- Weather apps - As we generate our revenue through advertisements, this app type would not work as users tend to be on the apps for very short period of time.\n",
    "- Navigation apps - These will also be overwhelmingly dominated by apps such as Google Maps.\n",
    "- Food and Drink apps - These apps generally allow users to order food for pick-up or delivery, these services are outside the scope of our company.\n",
    "\n",
    "Once we ignore the above genres, the apps with the highest total user ratings on average are 'Reference' and 'Book'. We can take a closer look at these. "
   ]
  },
  {
   "cell_type": "code",
   "execution_count": 22,
   "metadata": {},
   "outputs": [
    {
     "name": "stdout",
     "output_type": "stream",
     "text": [
      "Bible - 985920\n",
      "Dictionary.com Dictionary & Thesaurus - 200047\n",
      "Dictionary.com Dictionary & Thesaurus for iPad - 54175\n",
      "Google Translate - 26786\n",
      "Muslim Pro: Ramadan 2017 Prayer Times, Azan, Quran - 18418\n",
      "New Furniture Mods - Pocket Wiki & Game Tools for Minecraft PC Edition - 17588\n",
      "Merriam-Webster Dictionary - 16849\n",
      "Night Sky - 12122\n",
      "City Maps for Minecraft PE - The Best Maps for Minecraft Pocket Edition (MCPE) - 8535\n",
      "LUCKY BLOCK MOD ™ for Minecraft PC Edition - The Best Pocket Wiki & Mods Installer Tools - 4693\n",
      "GUNS MODS for Minecraft PC Edition - Mods Tools - 1497\n",
      "Guides for Pokémon GO - Pokemon GO News and Cheats - 826\n",
      "WWDC - 762\n",
      "Horror Maps for Minecraft PE - Download The Scariest Maps for Minecraft Pocket Edition (MCPE) Free - 718\n",
      "VPN Express - 14\n",
      "Real Bike Traffic Rider Virtual Reality Glasses - 8\n",
      "教えて!goo - 0\n",
      "Jishokun-Japanese English Dictionary & Translator - 0\n",
      "\n",
      "\n",
      "Kindle – Read eBooks, Magazines & Textbooks - 252076\n",
      "Audible – audio books, original series & podcasts - 105274\n",
      "Color Therapy Adult Coloring Book for Adults - 84062\n",
      "OverDrive – Library eBooks and Audiobooks - 65450\n",
      "HOOKED - Chat Stories - 47829\n",
      "BookShout: Read eBooks & Track Your Reading Goals - 879\n",
      "Dr. Seuss Treasury — 50 best kids books - 451\n",
      "Green Riding Hood - 392\n",
      "Weirdwood Manor - 197\n",
      "MangaZERO - comic reader - 9\n",
      "ikouhoushi - 0\n",
      "MangaTiara - love comic reader - 0\n",
      "謎解き - 0\n",
      "謎解き2016 - 0\n"
     ]
    }
   ],
   "source": [
    "for app in apple_data:\n",
    "    if app[11] == 'Reference':\n",
    "        print(app[1],'-',app[5])  \n",
    "print('\\n')\n",
    "for app in apple_data:\n",
    "    if app[11] == 'Book':\n",
    "        print(app[1],'-',app[5])  "
   ]
  },
  {
   "cell_type": "markdown",
   "metadata": {},
   "source": [
    "The 'Book' genre seems to contain apps that allow users to access a library of various books. The 'Reference' genre seems to allow users to access and analyse a single text. \n",
    "\n",
    "We may not be prepared to offer a variety or selection of books, but we definitely could create an in-app version of a popular book. This would potentially attract users who frequently access both 'Reference' and 'Book' apps. We could incentivize users to stay on our app as long as possible by offering extra features, such as:\n",
    "\n",
    "- Fun and interesting facts about the book, the author, their writing process. We could put these at the end of each chapter. \n",
    "- We could allow users to set a reading goal, a certain number of pages in a certain time frame for example.\n",
    "- A dictionary could be built into the app, this would mean users have less need to exit the app. \n",
    "- We could include pages for discussion forums, to allow fans of the book to have discussions and ask eachother questions.\n",
    "\n",
    "I would recommend the app profile described above for the App Store. Our app would have the potential to stand out, it would have the potential to educate users, whislt also giving them the chance to enjoy one of their favourite texts. \n",
    "\n",
    "Now that we have a good idea of an app profile for the App Store, lets move onto the Google Play data. \n",
    "\n",
    "### Google Play\n",
    "\n",
    "The `Installs` column of the Google Play data set tells us the number of installs of each app, this should give a clear picture of genre popularity. Unfortunately, the install numbers are not exact, instead they present thresholds (100+, 1,000+, 5,000+, etc):"
   ]
  },
  {
   "cell_type": "code",
   "execution_count": 23,
   "metadata": {},
   "outputs": [
    {
     "name": "stdout",
     "output_type": "stream",
     "text": [
      "1,000,000+ : 15.724760293288211\n",
      "100,000+ : 11.551043429216017\n",
      "10,000,000+ : 10.547095318668923\n",
      "10,000+ : 10.197405527354766\n",
      "1,000+ : 8.392554991539763\n",
      "100+ : 6.91483361534123\n",
      "5,000,000+ : 6.824591088550479\n",
      "500,000+ : 5.561195713479977\n",
      "50,000+ : 4.771573604060913\n",
      "5,000+ : 4.512126339537507\n",
      "10+ : 3.542019176536943\n",
      "500+ : 3.248730964467005\n",
      "50,000,000+ : 2.3011844331641287\n",
      "100,000,000+ : 2.131979695431472\n",
      "50+ : 1.9176536943034406\n",
      "5+ : 0.7896221094190639\n",
      "1+ : 0.5076142131979695\n",
      "500,000,000+ : 0.2707275803722504\n",
      "1,000,000,000+ : 0.2256063169768754\n",
      "0+ : 0.04512126339537507\n",
      "1000+ : 0.011280315848843767\n",
      "0 : 0.011280315848843767\n"
     ]
    }
   ],
   "source": [
    "display_table(google_data,5)"
   ]
  },
  {
   "cell_type": "markdown",
   "metadata": {},
   "source": [
    "We do not know whether an app with 100,000+ installs has 100,000 installs or 400,000 installs. Thankfully, we do not need to be overly precise, for our analysis we will assume that an app with 100,000+ installs as having 100,000 installs.\n",
    "\n",
    "To perform calculations with the install data we will need to convert these numbers from strings to floats, this includes removing the commas and plus signs. "
   ]
  },
  {
   "cell_type": "code",
   "execution_count": 24,
   "metadata": {},
   "outputs": [
    {
     "name": "stdout",
     "output_type": "stream",
     "text": [
      "ART_AND_DESIGN 1986335.0877192982\n",
      "AUTO_AND_VEHICLES 647317.8170731707\n",
      "BEAUTY 513151.88679245283\n",
      "BOOKS_AND_REFERENCE 8767811.894736841\n",
      "BUSINESS 1712290.1474201474\n",
      "COMICS 817657.2727272727\n",
      "COMMUNICATION 38456119.167247385\n",
      "DATING 854028.8303030303\n",
      "EDUCATION 1833495.145631068\n",
      "ENTERTAINMENT 11640705.88235294\n",
      "EVENTS 253542.22222222222\n",
      "FINANCE 1387692.475609756\n",
      "FOOD_AND_DRINK 1924897.7363636363\n",
      "HEALTH_AND_FITNESS 4188821.9853479853\n",
      "HOUSE_AND_HOME 1331540.5616438356\n",
      "LIBRARIES_AND_DEMO 638503.734939759\n",
      "LIFESTYLE 1437816.2687861272\n",
      "GAME 15588015.603248259\n",
      "FAMILY 3695641.8198090694\n",
      "MEDICAL 120550.61980830671\n",
      "SOCIAL 23253652.127118643\n",
      "SHOPPING 7036877.311557789\n",
      "PHOTOGRAPHY 17840110.40229885\n",
      "SPORTS 3638640.1428571427\n",
      "TRAVEL_AND_LOCAL 13984077.710144928\n",
      "TOOLS 10801391.298666667\n",
      "PERSONALIZATION 5201482.6122448975\n",
      "PRODUCTIVITY 16787331.344927534\n",
      "PARENTING 542603.6206896552\n",
      "WEATHER 5074486.197183099\n",
      "VIDEO_PLAYERS 24727872.452830188\n",
      "NEWS_AND_MAGAZINES 9549178.467741935\n",
      "MAPS_AND_NAVIGATION 4056941.7741935486\n",
      "Lifestyle 1000.0\n"
     ]
    }
   ],
   "source": [
    "Category = freq_table(google_data,1)\n",
    "\n",
    "for category in Category:\n",
    "    total = 0\n",
    "    len_category = 0\n",
    "    for app in google_data:\n",
    "        category_app = app[1]\n",
    "        if category_app == category:\n",
    "            n_installs = app[5]\n",
    "            n_installs = n_installs.replace('+','')\n",
    "            n_installs = n_installs.replace(',','')\n",
    "            total += float(n_installs)\n",
    "            len_category += 1\n",
    "    avg_installs = total/len_category\n",
    "    print(category, avg_installs)"
   ]
  },
  {
   "cell_type": "markdown",
   "metadata": {},
   "source": [
    "Again we should begin by disregarding some apps dominated by a few giant companies:\n",
    "\n",
    "- Communication apps - This category will most likely be domincated by WhatsApp and Facebook Messenger.\n",
    "- Video_Players - Again this will be taken up by apps like Youtube or Netflix. \n",
    "\n",
    "I believe the app profile we came up with for the App Store would also work in the Google Play market. The 'Books and References' category has a significant average number of installs; about 9 million. The 'Productivity' category has an average of about 17 million installs and the 'Entertainment' category has an average of about 12 million installs. \n",
    "With the app profile we previously suggested, our app can be appealing to users of these genres too. Allowing our users to set reading goals is a way of letting them increase their productivity, and they will surely gain entertainment from reading and learning more about the book.\n",
    "\n",
    "To help us decide what kind of book would be successful in app form, we can take a closer look at which apps are most popular in the 'Books and References' category."
   ]
  },
  {
   "cell_type": "code",
   "execution_count": 25,
   "metadata": {},
   "outputs": [
    {
     "name": "stdout",
     "output_type": "stream",
     "text": [
      "Wikipedia - 10,000,000+\n",
      "Cool Reader - 10,000,000+\n",
      "FBReader: Favorite Book Reader - 10,000,000+\n",
      "AlReader -any text book reader - 5,000,000+\n",
      "Ebook Reader - 5,000,000+\n",
      "Read books online - 5,000,000+\n",
      "Ancestry - 5,000,000+\n",
      "HTC Help - 10,000,000+\n",
      "Moon+ Reader - 10,000,000+\n",
      "Aldiko Book Reader - 10,000,000+\n",
      "Dictionary - WordWeb - 5,000,000+\n",
      "50000 Free eBooks & Free AudioBooks - 5,000,000+\n",
      "Al-Quran (Free) - 10,000,000+\n",
      "Al Quran Indonesia - 10,000,000+\n",
      "Al'Quran Bahasa Indonesia - 10,000,000+\n",
      "Al Quran : EAlim - Translations & MP3 Offline - 5,000,000+\n",
      "Quran for Android - 10,000,000+\n",
      "Dictionary.com: Find Definitions for English Words - 10,000,000+\n",
      "English Dictionary - Offline - 10,000,000+\n",
      "Bible KJV - 5,000,000+\n",
      "NOOK: Read eBooks & Magazines - 10,000,000+\n",
      "Dictionary - 10,000,000+\n",
      "Spanish English Translator - 10,000,000+\n",
      "Dictionary - Merriam-Webster - 10,000,000+\n",
      "JW Library - 10,000,000+\n",
      "Oxford Dictionary of English : Free - 10,000,000+\n",
      "English Hindi Dictionary - 10,000,000+\n",
      "English to Hindi Dictionary - 5,000,000+\n"
     ]
    }
   ],
   "source": [
    "for app in google_data:\n",
    "    if app[1] == 'BOOKS_AND_REFERENCE' and (app[5]=='5,000,000+'\n",
    "                                             or app[5]=='10,000,000+'\n",
    "                                             or app[5]=='50,000,000+'):\n",
    "        print(app[0],'-',app[5])"
   ]
  },
  {
   "cell_type": "markdown",
   "metadata": {},
   "source": [
    "This niche seems to be dominated mainly by dictionaries, book libraries and online book reading software. We may not see success making apps similair to these.\n",
    "\n",
    "Fortunately there are successful apps based around books like 'Bible' or 'Quran', taking a popular book and having it in app form seems as though it can be profitable! \n",
    "\n",
    "Perhaps choosing a very popular, modern book and turning it into an app could be profitable on both the Google Play and App Store markets.\n",
    "\n",
    "As stated previously, there are already plenty of libraries available on both markets so we would need to find extra feautures to help our app stand out. \n",
    "\n",
    "## Conclusions and Recommendation\n",
    "\n",
    "In this project, we analyzed two data sets, one with information on a selection of apps from the App Store and the other with similair information on Google Play mobile apps. We analyzed this data hoping to make a recommendation on an app profile that could be profitable on both markets.\n",
    "\n",
    "The conclusion we came to is that making an app version of a popular book (perhaps a more recent book) could be profitable on both markets. We stated earlier that both markets are already full of libraries, so it would be wise to add extra features to make our app stand out. Some of the features we have come up with are:\n",
    "\n",
    "- Having a built in dictionary.\n",
    "- Offering quizzes on the book.\n",
    "- Giving interesting facts about the book and author at the end of each chapter.\n",
    "- Allow users to set themselves time-bound reading goals.\n",
    "- A forum to allow users to ask eachother questions and have discussions.\n",
    "- Perhaps and audio version of the book."
   ]
  }
 ],
 "metadata": {
  "kernelspec": {
   "display_name": "Python 3",
   "language": "python",
   "name": "python3"
  },
  "language_info": {
   "codemirror_mode": {
    "name": "ipython",
    "version": 3
   },
   "file_extension": ".py",
   "mimetype": "text/x-python",
   "name": "python",
   "nbconvert_exporter": "python",
   "pygments_lexer": "ipython3",
   "version": "3.7.3"
  }
 },
 "nbformat": 4,
 "nbformat_minor": 2
}
